{
 "cells": [
  {
   "cell_type": "code",
   "execution_count": 3,
   "id": "a1e8da96-b95a-4d0d-a990-be85bc5d37d6",
   "metadata": {},
   "outputs": [],
   "source": [
    "import numpy"
   ]
  },
  {
   "cell_type": "code",
   "execution_count": 5,
   "id": "d58effb2-766b-4203-a7da-4002349d03fa",
   "metadata": {},
   "outputs": [
    {
     "name": "stdout",
     "output_type": "stream",
     "text": [
      "Numpy was last accessed on: Wed Jan  1 15:00:05 2025\n"
     ]
    }
   ],
   "source": [
    "import importlib.util\n",
    "import os\n",
    "import time\n",
    "\n",
    "def get_last_access_time(package_name):\n",
    "    '''\n",
    "    Function that returns the spec for the package, walks the directory, \n",
    "    and then uses the maximum st_atime out of all files in that package.\n",
    "    Note that,it still depends on the OS updating st_atime. It is possible that\n",
    "    this timestamp does not accurately reflect “usage” of the package.\n",
    "    '''\n",
    "    spec = importlib.util.find_spec(package_name)\n",
    "    if not spec or not spec.origin:\n",
    "        return f\"Could not find an importable spec for package '{package_name}'.\"\n",
    "    \n",
    "    # Convert the module’s main file to a directory path if needed\n",
    "    package_path = os.path.dirname(spec.origin)\n",
    "    if not os.path.exists(package_path):\n",
    "        return \"Package path not found.\"\n",
    "    \n",
    "    # Optionally, walk the entire directory to find the maximum last access time:\n",
    "    last_atime = 0\n",
    "    for root, _, files in os.walk(package_path):\n",
    "        for file_ in files:\n",
    "            filepath = os.path.join(root, file_)\n",
    "            stats = os.stat(filepath)\n",
    "            last_atime = max(last_atime, stats.st_atime)\n",
    "    \n",
    "    return time.ctime(last_atime) if last_atime else \"No file stats found.\"\n",
    "\n",
    "print(\"Numpy was last accessed on:\", get_last_access_time(\"pandas\"))\n"
   ]
  },
  {
   "cell_type": "code",
   "execution_count": 10,
   "id": "5cd660a2-d5e5-4519-b75b-b96e7f99c278",
   "metadata": {},
   "outputs": [],
   "source": [
    "import pkg_resources\n",
    "import os\n",
    "import time\n",
    "import pandas as pd\n",
    "\n",
    "def get_all_packages_last_access_time():\n",
    "    \"\"\"\n",
    "    Returns a dictionary of {package_name: last_access_time_string},\n",
    "    where 'last_access_time_string' can also be \"Package folder not found.\"\n",
    "    or an error message.\n",
    "    \"\"\"\n",
    "    package_access_times = {}\n",
    "    \n",
    "    ## Iterate over all installed distributions in the environment\n",
    "    for dist in pkg_resources.working_set:\n",
    "        package_name = dist.project_name  # e.g., 'numpy'\n",
    "        \n",
    "        try:\n",
    "            ## Attempt to find the on-disk directory of the package\n",
    "            package_path = os.path.join(dist.location, \n",
    "                                        package_name.replace('-', '_')  ## Many packages use underscores in the folder\n",
    "                                        )\n",
    "            \n",
    "            if os.path.exists(package_path):\n",
    "                stats = os.stat(package_path)\n",
    "                ## Convert st_atime to a readable string\n",
    "                last_access = time.ctime(stats.st_atime)\n",
    "            else:\n",
    "                last_access = \"Package folder not found.\"\n",
    "            \n",
    "            package_access_times[package_name] = last_access\n",
    "        \n",
    "        except Exception as e:\n",
    "            package_access_times[package_name] = f\"Error: {e}\"\n",
    "    \n",
    "    return package_access_times"
   ]
  },
  {
   "cell_type": "code",
   "execution_count": 11,
   "id": "525c81df-fc32-48f6-9921-2d7dece82827",
   "metadata": {},
   "outputs": [],
   "source": [
    "results = get_all_packages_last_access_time()"
   ]
  },
  {
   "cell_type": "code",
   "execution_count": 13,
   "id": "56918eb3-601d-4dce-ba73-b373cb660551",
   "metadata": {},
   "outputs": [],
   "source": [
    "results = pd.DataFrame(list(results.items()), columns=[\"Package\", \"Last_Access_Time\"])"
   ]
  },
  {
   "cell_type": "code",
   "execution_count": 15,
   "id": "d314db33-3eef-40ca-80df-175dd396eb63",
   "metadata": {},
   "outputs": [
    {
     "data": {
      "text/html": [
       "<div>\n",
       "<style scoped>\n",
       "    .dataframe tbody tr th:only-of-type {\n",
       "        vertical-align: middle;\n",
       "    }\n",
       "\n",
       "    .dataframe tbody tr th {\n",
       "        vertical-align: top;\n",
       "    }\n",
       "\n",
       "    .dataframe thead th {\n",
       "        text-align: right;\n",
       "    }\n",
       "</style>\n",
       "<table border=\"1\" class=\"dataframe\">\n",
       "  <thead>\n",
       "    <tr style=\"text-align: right;\">\n",
       "      <th></th>\n",
       "      <th>Package</th>\n",
       "      <th>Last_Access_Time</th>\n",
       "    </tr>\n",
       "  </thead>\n",
       "  <tbody>\n",
       "    <tr>\n",
       "      <th>0</th>\n",
       "      <td>GitPython</td>\n",
       "      <td>Package folder not found.</td>\n",
       "    </tr>\n",
       "    <tr>\n",
       "      <th>1</th>\n",
       "      <td>MarkupSafe</td>\n",
       "      <td>Wed Jan  1 15:00:05 2025</td>\n",
       "    </tr>\n",
       "    <tr>\n",
       "      <th>2</th>\n",
       "      <td>altair</td>\n",
       "      <td>Wed Jan  1 14:21:33 2025</td>\n",
       "    </tr>\n",
       "    <tr>\n",
       "      <th>3</th>\n",
       "      <td>annotated-types</td>\n",
       "      <td>Wed Jan  1 14:21:40 2025</td>\n",
       "    </tr>\n",
       "    <tr>\n",
       "      <th>4</th>\n",
       "      <td>anyio</td>\n",
       "      <td>Wed Jan  1 14:59:54 2025</td>\n",
       "    </tr>\n",
       "  </tbody>\n",
       "</table>\n",
       "</div>"
      ],
      "text/plain": [
       "           Package           Last_Access_Time\n",
       "0        GitPython  Package folder not found.\n",
       "1       MarkupSafe   Wed Jan  1 15:00:05 2025\n",
       "2           altair   Wed Jan  1 14:21:33 2025\n",
       "3  annotated-types   Wed Jan  1 14:21:40 2025\n",
       "4            anyio   Wed Jan  1 14:59:54 2025"
      ]
     },
     "execution_count": 15,
     "metadata": {},
     "output_type": "execute_result"
    }
   ],
   "source": [
    "results.head()"
   ]
  },
  {
   "cell_type": "code",
   "execution_count": null,
   "id": "42fdd8d0-ef09-4463-84a4-18be7b296330",
   "metadata": {},
   "outputs": [],
   "source": [
    "results.to_csv(\"packages_last_access.csv\", index=False)"
   ]
  },
  {
   "cell_type": "code",
   "execution_count": null,
   "id": "9ac72c42-288f-4445-ab69-52aadefdc16a",
   "metadata": {},
   "outputs": [],
   "source": []
  },
  {
   "cell_type": "code",
   "execution_count": null,
   "id": "805fe391-b76c-418e-82e3-501cc3820ef3",
   "metadata": {},
   "outputs": [],
   "source": []
  }
 ],
 "metadata": {
  "kernelspec": {
   "display_name": "Python 3 (ipykernel)",
   "language": "python",
   "name": "python3"
  },
  "language_info": {
   "codemirror_mode": {
    "name": "ipython",
    "version": 3
   },
   "file_extension": ".py",
   "mimetype": "text/x-python",
   "name": "python",
   "nbconvert_exporter": "python",
   "pygments_lexer": "ipython3",
   "version": "3.8.20"
  }
 },
 "nbformat": 4,
 "nbformat_minor": 5
}
